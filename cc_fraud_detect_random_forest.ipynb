{
  "nbformat": 4,
  "nbformat_minor": 0,
  "metadata": {
    "colab": {
      "provenance": []
    },
    "kernelspec": {
      "name": "python3",
      "display_name": "Python 3"
    },
    "language_info": {
      "name": "python"
    },
    "gpuClass": "standard"
  },
  "cells": [
    {
      "cell_type": "code",
      "execution_count": 18,
      "metadata": {
        "id": "BEvPgeWofhQv"
      },
      "outputs": [],
      "source": [
        "import pandas as pd\n",
        "import numpy as np\n",
        "import matplotlib.pyplot as plt\n",
        "import seaborn as sns\n",
        "from sklearn.model_selection import train_test_split\n",
        "from sklearn.model_selection import cross_val_score, cross_validate, RepeatedKFold\n",
        "from sklearn.ensemble import RandomForestClassifier\n",
        "from imblearn.under_sampling import ClusterCentroids\n",
        "from imblearn.over_sampling import SMOTE\n",
        "from sklearn.metrics import accuracy_score, recall_score, precision_score, f1_score\n",
        "from sklearn.metrics import roc_auc_score\n",
        "from sklearn.metrics import confusion_matrix\n",
        "\n",
        "from xgboost import XGBRFClassifier"
      ]
    },
    {
      "cell_type": "code",
      "source": [
        "df = pd.read_csv('/content/drive/MyDrive/ids_project/creditcard.csv')"
      ],
      "metadata": {
        "id": "BhlVHInwhDcC"
      },
      "execution_count": 19,
      "outputs": []
    },
    {
      "cell_type": "code",
      "source": [
        "df.head()"
      ],
      "metadata": {
        "colab": {
          "base_uri": "https://localhost:8080/",
          "height": 300
        },
        "id": "rXqPHnGrj7Ie",
        "outputId": "48f15560-ea2f-428b-cb57-c8cf5a742469"
      },
      "execution_count": 49,
      "outputs": [
        {
          "output_type": "execute_result",
          "data": {
            "text/plain": [
              "   Time        V1        V2        V3        V4        V5        V6        V7  \\\n",
              "0   0.0 -1.359807 -0.072781  2.536347  1.378155 -0.338321  0.462388  0.239599   \n",
              "1   0.0  1.191857  0.266151  0.166480  0.448154  0.060018 -0.082361 -0.078803   \n",
              "2   1.0 -1.358354 -1.340163  1.773209  0.379780 -0.503198  1.800499  0.791461   \n",
              "3   1.0 -0.966272 -0.185226  1.792993 -0.863291 -0.010309  1.247203  0.237609   \n",
              "4   2.0 -1.158233  0.877737  1.548718  0.403034 -0.407193  0.095921  0.592941   \n",
              "\n",
              "         V8        V9  ...       V21       V22       V23       V24       V25  \\\n",
              "0  0.098698  0.363787  ... -0.018307  0.277838 -0.110474  0.066928  0.128539   \n",
              "1  0.085102 -0.255425  ... -0.225775 -0.638672  0.101288 -0.339846  0.167170   \n",
              "2  0.247676 -1.514654  ...  0.247998  0.771679  0.909412 -0.689281 -0.327642   \n",
              "3  0.377436 -1.387024  ... -0.108300  0.005274 -0.190321 -1.175575  0.647376   \n",
              "4 -0.270533  0.817739  ... -0.009431  0.798278 -0.137458  0.141267 -0.206010   \n",
              "\n",
              "        V26       V27       V28  Amount  Class  \n",
              "0 -0.189115  0.133558 -0.021053  149.62      0  \n",
              "1  0.125895 -0.008983  0.014724    2.69      0  \n",
              "2 -0.139097 -0.055353 -0.059752  378.66      0  \n",
              "3 -0.221929  0.062723  0.061458  123.50      0  \n",
              "4  0.502292  0.219422  0.215153   69.99      0  \n",
              "\n",
              "[5 rows x 31 columns]"
            ],
            "text/html": [
              "\n",
              "  <div id=\"df-db4624ba-cfd9-4210-9f2d-145dcf082807\">\n",
              "    <div class=\"colab-df-container\">\n",
              "      <div>\n",
              "<style scoped>\n",
              "    .dataframe tbody tr th:only-of-type {\n",
              "        vertical-align: middle;\n",
              "    }\n",
              "\n",
              "    .dataframe tbody tr th {\n",
              "        vertical-align: top;\n",
              "    }\n",
              "\n",
              "    .dataframe thead th {\n",
              "        text-align: right;\n",
              "    }\n",
              "</style>\n",
              "<table border=\"1\" class=\"dataframe\">\n",
              "  <thead>\n",
              "    <tr style=\"text-align: right;\">\n",
              "      <th></th>\n",
              "      <th>Time</th>\n",
              "      <th>V1</th>\n",
              "      <th>V2</th>\n",
              "      <th>V3</th>\n",
              "      <th>V4</th>\n",
              "      <th>V5</th>\n",
              "      <th>V6</th>\n",
              "      <th>V7</th>\n",
              "      <th>V8</th>\n",
              "      <th>V9</th>\n",
              "      <th>...</th>\n",
              "      <th>V21</th>\n",
              "      <th>V22</th>\n",
              "      <th>V23</th>\n",
              "      <th>V24</th>\n",
              "      <th>V25</th>\n",
              "      <th>V26</th>\n",
              "      <th>V27</th>\n",
              "      <th>V28</th>\n",
              "      <th>Amount</th>\n",
              "      <th>Class</th>\n",
              "    </tr>\n",
              "  </thead>\n",
              "  <tbody>\n",
              "    <tr>\n",
              "      <th>0</th>\n",
              "      <td>0.0</td>\n",
              "      <td>-1.359807</td>\n",
              "      <td>-0.072781</td>\n",
              "      <td>2.536347</td>\n",
              "      <td>1.378155</td>\n",
              "      <td>-0.338321</td>\n",
              "      <td>0.462388</td>\n",
              "      <td>0.239599</td>\n",
              "      <td>0.098698</td>\n",
              "      <td>0.363787</td>\n",
              "      <td>...</td>\n",
              "      <td>-0.018307</td>\n",
              "      <td>0.277838</td>\n",
              "      <td>-0.110474</td>\n",
              "      <td>0.066928</td>\n",
              "      <td>0.128539</td>\n",
              "      <td>-0.189115</td>\n",
              "      <td>0.133558</td>\n",
              "      <td>-0.021053</td>\n",
              "      <td>149.62</td>\n",
              "      <td>0</td>\n",
              "    </tr>\n",
              "    <tr>\n",
              "      <th>1</th>\n",
              "      <td>0.0</td>\n",
              "      <td>1.191857</td>\n",
              "      <td>0.266151</td>\n",
              "      <td>0.166480</td>\n",
              "      <td>0.448154</td>\n",
              "      <td>0.060018</td>\n",
              "      <td>-0.082361</td>\n",
              "      <td>-0.078803</td>\n",
              "      <td>0.085102</td>\n",
              "      <td>-0.255425</td>\n",
              "      <td>...</td>\n",
              "      <td>-0.225775</td>\n",
              "      <td>-0.638672</td>\n",
              "      <td>0.101288</td>\n",
              "      <td>-0.339846</td>\n",
              "      <td>0.167170</td>\n",
              "      <td>0.125895</td>\n",
              "      <td>-0.008983</td>\n",
              "      <td>0.014724</td>\n",
              "      <td>2.69</td>\n",
              "      <td>0</td>\n",
              "    </tr>\n",
              "    <tr>\n",
              "      <th>2</th>\n",
              "      <td>1.0</td>\n",
              "      <td>-1.358354</td>\n",
              "      <td>-1.340163</td>\n",
              "      <td>1.773209</td>\n",
              "      <td>0.379780</td>\n",
              "      <td>-0.503198</td>\n",
              "      <td>1.800499</td>\n",
              "      <td>0.791461</td>\n",
              "      <td>0.247676</td>\n",
              "      <td>-1.514654</td>\n",
              "      <td>...</td>\n",
              "      <td>0.247998</td>\n",
              "      <td>0.771679</td>\n",
              "      <td>0.909412</td>\n",
              "      <td>-0.689281</td>\n",
              "      <td>-0.327642</td>\n",
              "      <td>-0.139097</td>\n",
              "      <td>-0.055353</td>\n",
              "      <td>-0.059752</td>\n",
              "      <td>378.66</td>\n",
              "      <td>0</td>\n",
              "    </tr>\n",
              "    <tr>\n",
              "      <th>3</th>\n",
              "      <td>1.0</td>\n",
              "      <td>-0.966272</td>\n",
              "      <td>-0.185226</td>\n",
              "      <td>1.792993</td>\n",
              "      <td>-0.863291</td>\n",
              "      <td>-0.010309</td>\n",
              "      <td>1.247203</td>\n",
              "      <td>0.237609</td>\n",
              "      <td>0.377436</td>\n",
              "      <td>-1.387024</td>\n",
              "      <td>...</td>\n",
              "      <td>-0.108300</td>\n",
              "      <td>0.005274</td>\n",
              "      <td>-0.190321</td>\n",
              "      <td>-1.175575</td>\n",
              "      <td>0.647376</td>\n",
              "      <td>-0.221929</td>\n",
              "      <td>0.062723</td>\n",
              "      <td>0.061458</td>\n",
              "      <td>123.50</td>\n",
              "      <td>0</td>\n",
              "    </tr>\n",
              "    <tr>\n",
              "      <th>4</th>\n",
              "      <td>2.0</td>\n",
              "      <td>-1.158233</td>\n",
              "      <td>0.877737</td>\n",
              "      <td>1.548718</td>\n",
              "      <td>0.403034</td>\n",
              "      <td>-0.407193</td>\n",
              "      <td>0.095921</td>\n",
              "      <td>0.592941</td>\n",
              "      <td>-0.270533</td>\n",
              "      <td>0.817739</td>\n",
              "      <td>...</td>\n",
              "      <td>-0.009431</td>\n",
              "      <td>0.798278</td>\n",
              "      <td>-0.137458</td>\n",
              "      <td>0.141267</td>\n",
              "      <td>-0.206010</td>\n",
              "      <td>0.502292</td>\n",
              "      <td>0.219422</td>\n",
              "      <td>0.215153</td>\n",
              "      <td>69.99</td>\n",
              "      <td>0</td>\n",
              "    </tr>\n",
              "  </tbody>\n",
              "</table>\n",
              "<p>5 rows × 31 columns</p>\n",
              "</div>\n",
              "      <button class=\"colab-df-convert\" onclick=\"convertToInteractive('df-db4624ba-cfd9-4210-9f2d-145dcf082807')\"\n",
              "              title=\"Convert this dataframe to an interactive table.\"\n",
              "              style=\"display:none;\">\n",
              "        \n",
              "  <svg xmlns=\"http://www.w3.org/2000/svg\" height=\"24px\"viewBox=\"0 0 24 24\"\n",
              "       width=\"24px\">\n",
              "    <path d=\"M0 0h24v24H0V0z\" fill=\"none\"/>\n",
              "    <path d=\"M18.56 5.44l.94 2.06.94-2.06 2.06-.94-2.06-.94-.94-2.06-.94 2.06-2.06.94zm-11 1L8.5 8.5l.94-2.06 2.06-.94-2.06-.94L8.5 2.5l-.94 2.06-2.06.94zm10 10l.94 2.06.94-2.06 2.06-.94-2.06-.94-.94-2.06-.94 2.06-2.06.94z\"/><path d=\"M17.41 7.96l-1.37-1.37c-.4-.4-.92-.59-1.43-.59-.52 0-1.04.2-1.43.59L10.3 9.45l-7.72 7.72c-.78.78-.78 2.05 0 2.83L4 21.41c.39.39.9.59 1.41.59.51 0 1.02-.2 1.41-.59l7.78-7.78 2.81-2.81c.8-.78.8-2.07 0-2.86zM5.41 20L4 18.59l7.72-7.72 1.47 1.35L5.41 20z\"/>\n",
              "  </svg>\n",
              "      </button>\n",
              "      \n",
              "  <style>\n",
              "    .colab-df-container {\n",
              "      display:flex;\n",
              "      flex-wrap:wrap;\n",
              "      gap: 12px;\n",
              "    }\n",
              "\n",
              "    .colab-df-convert {\n",
              "      background-color: #E8F0FE;\n",
              "      border: none;\n",
              "      border-radius: 50%;\n",
              "      cursor: pointer;\n",
              "      display: none;\n",
              "      fill: #1967D2;\n",
              "      height: 32px;\n",
              "      padding: 0 0 0 0;\n",
              "      width: 32px;\n",
              "    }\n",
              "\n",
              "    .colab-df-convert:hover {\n",
              "      background-color: #E2EBFA;\n",
              "      box-shadow: 0px 1px 2px rgba(60, 64, 67, 0.3), 0px 1px 3px 1px rgba(60, 64, 67, 0.15);\n",
              "      fill: #174EA6;\n",
              "    }\n",
              "\n",
              "    [theme=dark] .colab-df-convert {\n",
              "      background-color: #3B4455;\n",
              "      fill: #D2E3FC;\n",
              "    }\n",
              "\n",
              "    [theme=dark] .colab-df-convert:hover {\n",
              "      background-color: #434B5C;\n",
              "      box-shadow: 0px 1px 3px 1px rgba(0, 0, 0, 0.15);\n",
              "      filter: drop-shadow(0px 1px 2px rgba(0, 0, 0, 0.3));\n",
              "      fill: #FFFFFF;\n",
              "    }\n",
              "  </style>\n",
              "\n",
              "      <script>\n",
              "        const buttonEl =\n",
              "          document.querySelector('#df-db4624ba-cfd9-4210-9f2d-145dcf082807 button.colab-df-convert');\n",
              "        buttonEl.style.display =\n",
              "          google.colab.kernel.accessAllowed ? 'block' : 'none';\n",
              "\n",
              "        async function convertToInteractive(key) {\n",
              "          const element = document.querySelector('#df-db4624ba-cfd9-4210-9f2d-145dcf082807');\n",
              "          const dataTable =\n",
              "            await google.colab.kernel.invokeFunction('convertToInteractive',\n",
              "                                                     [key], {});\n",
              "          if (!dataTable) return;\n",
              "\n",
              "          const docLinkHtml = 'Like what you see? Visit the ' +\n",
              "            '<a target=\"_blank\" href=https://colab.research.google.com/notebooks/data_table.ipynb>data table notebook</a>'\n",
              "            + ' to learn more about interactive tables.';\n",
              "          element.innerHTML = '';\n",
              "          dataTable['output_type'] = 'display_data';\n",
              "          await google.colab.output.renderOutput(dataTable, element);\n",
              "          const docLink = document.createElement('div');\n",
              "          docLink.innerHTML = docLinkHtml;\n",
              "          element.appendChild(docLink);\n",
              "        }\n",
              "      </script>\n",
              "    </div>\n",
              "  </div>\n",
              "  "
            ]
          },
          "metadata": {},
          "execution_count": 49
        }
      ]
    },
    {
      "cell_type": "code",
      "source": [
        "def under_sampler(input, target_col):\n",
        "  \n",
        "  # initialize the ClusterCentroid sampler & undersample the input\n",
        "  cc_under_sampler = ClusterCentroids(sampling_strategy='not minority', random_state=9)\n",
        "  x_us, y_us = cc_under_sampler.fit_resample(X=input.loc[:,input.columns != target_col], y=input[target_col])\n",
        "\n",
        "  return x_us, y_us"
      ],
      "metadata": {
        "id": "l7RQzJY8lBoj"
      },
      "execution_count": 36,
      "outputs": []
    },
    {
      "cell_type": "code",
      "source": [
        "def over_sampler(input, target_col):\n",
        "\n",
        "  # initialize SMOTE and oversample the input data\n",
        "  smote_over_sampler = SMOTE()\n",
        "  x_os, y_os = smote_over_sampler.fit_resample(X=input.loc[:,input.columns != target_col], y=input[target_col])\n",
        "\n",
        "  return x_os, y_os"
      ],
      "metadata": {
        "id": "HACmtCOfxz3l"
      },
      "execution_count": 37,
      "outputs": []
    },
    {
      "cell_type": "code",
      "source": [
        "def print_metrics(y_test, y_pred):\n",
        "  # plotting the confusion matrix\n",
        "  plt.figure(figsize=(8, 8))\n",
        "  plt.title('Confusion Matrix')\n",
        "\n",
        "  conf_matrix = confusion_matrix(y_test, y_pred)\n",
        "  sns.heatmap(conf_matrix, annot=True, xticklabels=[\"fraud\", \"non-fraud\"], yticklabels=[\"fraud\", \"non-fraud\"])\n",
        "\n",
        "  plt.xlabel('Predicted Label')\n",
        "  plt.ylabel('True Label')\n",
        "  plt.show()\n",
        "\n",
        "  # metrcis\n",
        "  print(\"\")\n",
        "  print(\"Accuracy  :\", accuracy_score(y_test, y_pred))\n",
        "  print(\"Recall    :\", recall_score(y_test, y_pred))\n",
        "  print(\"Precision :\", precision_score(y_test, y_pred))\n",
        "  print(\"F1-score  :\", f1_score(y_test, y_pred))\n",
        "  print(\"ROC AUC   :\", roc_auc_score(y_test, y_pred))"
      ],
      "metadata": {
        "id": "AXdzT9s5Hud2"
      },
      "execution_count": 26,
      "outputs": []
    },
    {
      "cell_type": "code",
      "source": [
        "def randrom_forest_classifier(input_df):\n",
        "  \n",
        "  # Random forest with under sampled data\n",
        "  print(\"Random Forest with undersampled data:\\n\")\n",
        "\n",
        "  # Initalize random forest classifier\n",
        "  rf_classifier_us = RandomForestClassifier(n_jobs=-1)\n",
        "\n",
        "  # undersample the input\n",
        "  x_us, y_us = under_sampler(input_df, 'Class')\n",
        "\n",
        "  # train-test split\n",
        "  X_train, X_test, y_train, y_test = train_test_split(x_us, y_us, test_size=0.3)\n",
        "\n",
        "  rkf = RepeatedKFold()\n",
        "  cv_scores = cross_validate(rf_classifier_us, X_train, y_train, cv=rkf.split(X_train, y_train), scoring=['accuracy', 'roc_auc'])\n",
        "\n",
        "  # fit\n",
        "  model_us = rf_classifier_us.fit(X_train, y_train)\n",
        "\n",
        "  # predict \n",
        "  y_pred = model_us.predict(X_test)\n",
        "\n",
        "  # metrcis\n",
        "  print_metrics(y_test, y_pred)\n",
        "  print(\"\\n\")\n",
        "  print(\"---------------------------------------------------------------------\")\n",
        "  print(\"\\n\")\n",
        "\n",
        "  # Random Forest on oversampled data\n",
        "  print(\"Random Forest with oversampled data:\\n\")\n",
        "  \n",
        "  # Initalize random forest classifier\n",
        "  rf_classifier_os = RandomForestClassifier(n_jobs=-1)\n",
        "\n",
        "  # oversampling\n",
        "  x_os, y_os = over_sampler(input_df, 'Class')\n",
        "\n",
        "  # train-test split\n",
        "  X_train, X_test, y_train, y_test = train_test_split(x_os, y_os, test_size=0.3)\n",
        "\n",
        "  # cross validation\n",
        "  cv_scores = cross_val_score(rf_classifier_os, X_train, y_train)\n",
        "\n",
        "  # fit\n",
        "  model_os = rf_classifier_os.fit(X_train, y_train)\n",
        "\n",
        "  # predict \n",
        "  y_pred = model_os.predict(X_test)\n",
        "\n",
        "  # scores \n",
        "  print_metrics(y_test, y_pred)"
      ],
      "metadata": {
        "id": "qrTigrXbySrT"
      },
      "execution_count": 53,
      "outputs": []
    },
    {
      "cell_type": "code",
      "source": [
        "randrom_forest_classifier(df)"
      ],
      "metadata": {
        "colab": {
          "base_uri": "https://localhost:8080/",
          "height": 1000
        },
        "id": "HlMiDJal4nS9",
        "outputId": "2d7dfbdf-cf5a-48b2-e406-e6a9590891a6"
      },
      "execution_count": 54,
      "outputs": [
        {
          "output_type": "stream",
          "name": "stdout",
          "text": [
            "Random Forest with undersampled data:\n",
            "\n"
          ]
        },
        {
          "output_type": "display_data",
          "data": {
            "text/plain": [
              "<Figure size 576x576 with 2 Axes>"
            ],
            "image/png": "[encoded data removed]"
          },
          "metadata": {
            "needs_background": "light"
          }
        },
        {
          "output_type": "stream",
          "name": "stdout",
          "text": [
            "\n",
            "Accuracy  : 0.9932432432432432\n",
            "Recall    : 1.0\n",
            "Precision : 0.9877300613496932\n",
            "F1-score  : 0.9938271604938271\n",
            "ROC AUC   : 0.9925925925925926\n",
            "\n",
            "\n",
            "---------------------------------------------------------------------\n",
            "\n",
            "\n",
            "Random Forest with oversampled data:\n",
            "\n"
          ]
        },
        {
          "output_type": "display_data",
          "data": {
            "text/plain": [
              "<Figure size 576x576 with 2 Axes>"
            ],
            "image/png": "[encoded data removed]"
          },
          "metadata": {
            "needs_background": "light"
          }
        },
        {
          "output_type": "stream",
          "name": "stdout",
          "text": [
            "\n",
            "Accuracy  : 0.9998944832316269\n",
            "Recall    : 1.0\n",
            "Precision : 0.9997887819760619\n",
            "F1-score  : 0.9998943798335896\n",
            "ROC AUC   : 0.9998945975382669\n"
          ]
        }
      ]
    },
    {
      "cell_type": "markdown",
      "source": [
        "**Standalone Random Forest With XGBoost**"
      ],
      "metadata": {
        "id": "WH51CTWwSqGX"
      }
    },
    {
      "cell_type": "code",
      "source": [
        "#\n",
        "# XGBoost Classifier with unbalanced data\n",
        "# 'scale_pos_weight' hyper-parameter is used to balance internallly\n",
        "#\n",
        "def xgboost_pure(df):\n",
        "\n",
        "  # initialize classifier \n",
        "  xgb_clsf = XGBRFClassifier(\n",
        "                          n_estimators=100,\n",
        "                          num_parallel_tree=1,\n",
        "                          verbosity=1,\n",
        "                          subsample=0.8,\n",
        "                          colsample_bynode=0.8,\n",
        "                          random_state=78,\n",
        "                          objective='binary:logistic',\n",
        "                          early_stopping_rounds=3,\n",
        "                          eval_metric=['error']\n",
        "                        )\n",
        "  # train-test split\n",
        "  X_train, X_test, y_train, y_test = train_test_split(df.loc[:, df.columns != 'Class'], df['Class'], test_size=0.3)\n",
        "\n",
        "  # train-val split for early stopping\n",
        "  X_train, X_val, y_train, y_val = train_test_split(X_train, y_train, test_size=0.2)\n",
        "\n",
        "  #fit \n",
        "  xgb_clsf.fit(X_train, y_train, eval_set=[(X_val, y_val)])\n",
        "\n",
        "  #predict\n",
        "  y_pred = xgb_clsf.predict(X_test)\n",
        "\n",
        "  # print metrics\n",
        "  print_metrics(y_test, y_pred)"
      ],
      "metadata": {
        "colab": {
          "base_uri": "https://localhost:8080/"
        },
        "id": "iBfTv2TTSc7W",
        "outputId": "6bc02f0c-52d6-4ea0-ff89-ffa022dd60b6"
      },
      "execution_count": 32,
      "outputs": [
        {
          "output_type": "stream",
          "name": "stderr",
          "text": [
            "Exception ignored in: <function Booster.__del__ at 0x7f39f8c23e50>\n",
            "Traceback (most recent call last):\n",
            "  File \"/usr/local/lib/python3.8/dist-packages/xgboost/core.py\", line 957, in __del__\n",
            "    if self.handle is not None:\n",
            "AttributeError: 'Booster' object has no attribute 'handle'\n"
          ]
        }
      ]
    },
    {
      "cell_type": "code",
      "source": [
        "# XGBoost with imbalanced data\n",
        "xgboost_pure(df)"
      ],
      "metadata": {
        "colab": {
          "base_uri": "https://localhost:8080/",
          "height": 638
        },
        "id": "-qOowesoUCnl",
        "outputId": "817cc501-8930-4553-a6c7-06afdeb736fd"
      },
      "execution_count": 33,
      "outputs": [
        {
          "output_type": "stream",
          "name": "stdout",
          "text": [
            "[0]\tvalidation_0-error:0.000702\n"
          ]
        },
        {
          "output_type": "display_data",
          "data": {
            "text/plain": [
              "<Figure size 576x576 with 2 Axes>"
            ],
            "image/png": "[encoded data removed]"
          },
          "metadata": {
            "needs_background": "light"
          }
        },
        {
          "output_type": "stream",
          "name": "stdout",
          "text": [
            "\n",
            "Accuracy  : 0.9992509626300574\n",
            "Recall    : 0.7218045112781954\n",
            "Precision : 0.7804878048780488\n",
            "F1-score  : 0.75\n",
            "ROC AUC   : 0.860744009243599\n"
          ]
        }
      ]
    },
    {
      "cell_type": "code",
      "source": [
        "def xgboost_on_undersample(input_df):\n",
        "  \n",
        "  # initialize classifier \n",
        "  xgb_clsf = XGBRFClassifier(\n",
        "                          n_estimators=100,\n",
        "                          num_parallel_tree=1,\n",
        "                          verbosity=1,\n",
        "                          subsample=0.8,\n",
        "                          colsample_bynode=0.8,\n",
        "                          random_state=78,\n",
        "                          objective='binary:logistic',\n",
        "                          early_stopping_rounds=3,\n",
        "                          eval_metric=['error']\n",
        "                        )\n",
        "  \n",
        "  # undersample the input\n",
        "  x_us, y_us = under_sampler(input_df, 'Class')\n",
        "\n",
        "  # train-test split\n",
        "  X_train, X_test, y_train, y_test = train_test_split(x_us, y_us, test_size=0.3)\n",
        "  # train-val split for early stopping\n",
        "  X_train, X_val, y_train, y_val = train_test_split(X_train, y_train, test_size=0.2)\n",
        "\n",
        "  #fit \n",
        "  xgb_clsf.fit(X_train, y_train, eval_set=[(X_val, y_val)])\n",
        "\n",
        "  # predict\n",
        "  y_pred = xgb_clsf.predict(X_test)\n",
        "\n",
        "  # print metrics\n",
        "  print_metrics(y_test, y_pred)"
      ],
      "metadata": {
        "id": "AurZjxKoSwFp"
      },
      "execution_count": 38,
      "outputs": []
    },
    {
      "cell_type": "code",
      "source": [
        "# XGBoost after under sampling\n",
        "xgboost_on_undersample(df)"
      ],
      "metadata": {
        "colab": {
          "base_uri": "https://localhost:8080/",
          "height": 638
        },
        "id": "5qP9f1mtUQuz",
        "outputId": "49d4e77a-7ff6-42d5-9c50-b6c069deec9c"
      },
      "execution_count": 39,
      "outputs": [
        {
          "output_type": "stream",
          "name": "stdout",
          "text": [
            "[0]\tvalidation_0-error:0.007246\n"
          ]
        },
        {
          "output_type": "display_data",
          "data": {
            "text/plain": [
              "<Figure size 576x576 with 2 Axes>"
            ],
            "image/png": "[encoded data removed]"
          },
          "metadata": {
            "needs_background": "light"
          }
        },
        {
          "output_type": "stream",
          "name": "stdout",
          "text": [
            "\n",
            "Accuracy  : 0.9864864864864865\n",
            "Recall    : 0.9864864864864865\n",
            "Precision : 0.9864864864864865\n",
            "F1-score  : 0.9864864864864865\n",
            "ROC AUC   : 0.9864864864864865\n"
          ]
        }
      ]
    },
    {
      "cell_type": "code",
      "source": [
        "def xgboost_on_oversample(input_df):\n",
        "  \n",
        "  # initialize classifier \n",
        "  xgb_clsf = XGBRFClassifier(\n",
        "                          n_estimators=100,\n",
        "                          num_parallel_tree=1,\n",
        "                          verbosity=1,\n",
        "                          subsample=0.8,\n",
        "                          colsample_bynode=0.8,\n",
        "                          random_state=78,\n",
        "                          objective='binary:logistic',\n",
        "                          early_stopping_rounds=3,\n",
        "                          eval_metric=['error']\n",
        "                        )\n",
        "  \n",
        "  # oversampling                         \n",
        "  x_os, y_os = over_sampler(input_df, 'Class')\n",
        "\n",
        "  # train-test split\n",
        "  X_train, X_test, y_train, y_test = train_test_split(x_os, y_os, test_size=0.3)\n",
        "\n",
        "  # train-val split for early stopping\n",
        "  X_train, X_val, y_train, y_val = train_test_split(X_train, y_train, test_size=0.2)\n",
        "\n",
        "  #fit \n",
        "  xgb_clsf.fit(X_train, y_train, eval_set=[(X_val, y_val)])\n",
        "\n",
        "  # predict\n",
        "  y_pred = xgb_clsf.predict(X_test)\n",
        "\n",
        "  # print metrics\n",
        "  print_metrics(y_test, y_pred)"
      ],
      "metadata": {
        "id": "YNQKjsJ-TlME"
      },
      "execution_count": 40,
      "outputs": []
    },
    {
      "cell_type": "code",
      "source": [
        "# XGBoost after oversampling \n",
        "xgboost_on_oversample(df)"
      ],
      "metadata": {
        "colab": {
          "base_uri": "https://localhost:8080/",
          "height": 638
        },
        "id": "9DOgZmJxUaSA",
        "outputId": "82a859bf-7bc8-4327-ba66-681fbf79de4d"
      },
      "execution_count": 41,
      "outputs": [
        {
          "output_type": "stream",
          "name": "stdout",
          "text": [
            "[0]\tvalidation_0-error:0.037646\n"
          ]
        },
        {
          "output_type": "display_data",
          "data": {
            "text/plain": [
              "<Figure size 576x576 with 2 Axes>"
            ],
            "image/png": "[encoded data removed]"
          },
          "metadata": {
            "needs_background": "light"
          }
        },
        {
          "output_type": "stream",
          "name": "stdout",
          "text": [
            "\n",
            "Accuracy  : 0.9617384473793739\n",
            "Recall    : 0.9370099995305384\n",
            "Precision : 0.9856784819190835\n",
            "F1-score  : 0.9607282747997906\n",
            "ROC AUC   : 0.9617122375705044\n"
          ]
        }
      ]
    }
  ]
}